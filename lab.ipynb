{
 "cells": [
  {
   "cell_type": "markdown",
   "metadata": {},
   "source": [
    "# Import pakages"
   ]
  },
  {
   "cell_type": "code",
   "execution_count": 64,
   "metadata": {},
   "outputs": [],
   "source": [
    "import time\n",
    "import pandas as pd\n",
    "import numpy as np\n",
    "import sklearn\n",
    "import matplotlib.pyplot as plt\n",
    "from sklearn.metrics import classification_report,precision_score,recall_score,auc,roc_curve\n",
    "from sklearn.utils import shuffle\n",
    "from sklearn.feature_extraction.text import TfidfVectorizer, CountVectorizer\n",
    "from sklearn import svm, linear_model, naive_bayes, ensemble, neural_network\n",
    "import nltk\n",
    "import warnings\n",
    "warnings.filterwarnings(\"ignore\")"
   ]
  },
  {
   "cell_type": "markdown",
   "metadata": {},
   "source": [
    "# Loading data"
   ]
  },
  {
   "cell_type": "code",
   "execution_count": 65,
   "metadata": {},
   "outputs": [],
   "source": [
    "TrainData=pd.read_csv(\"train.csv\")\n",
    "TestData=pd.read_csv(\"train.csv\")\n",
    "EvaData=pd.read_csv(\"evaluation.csv\")"
   ]
  },
  {
   "cell_type": "markdown",
   "metadata": {},
   "source": [
    "# Overview of data and visualization"
   ]
  },
  {
   "cell_type": "code",
   "execution_count": 66,
   "metadata": {},
   "outputs": [
    {
     "data": {
      "text/html": [
       "<div>\n",
       "<style scoped>\n",
       "    .dataframe tbody tr th:only-of-type {\n",
       "        vertical-align: middle;\n",
       "    }\n",
       "\n",
       "    .dataframe tbody tr th {\n",
       "        vertical-align: top;\n",
       "    }\n",
       "\n",
       "    .dataframe thead th {\n",
       "        text-align: right;\n",
       "    }\n",
       "</style>\n",
       "<table border=\"1\" class=\"dataframe\">\n",
       "  <thead>\n",
       "    <tr style=\"text-align: right;\">\n",
       "      <th></th>\n",
       "      <th>score</th>\n",
       "      <th>text</th>\n",
       "    </tr>\n",
       "  </thead>\n",
       "  <tbody>\n",
       "    <tr>\n",
       "      <th>0</th>\n",
       "      <td>0</td>\n",
       "      <td>overgeneralized, not helpful to anyone serious...</td>\n",
       "    </tr>\n",
       "    <tr>\n",
       "      <th>1</th>\n",
       "      <td>1</td>\n",
       "      <td>Great sound and service.</td>\n",
       "    </tr>\n",
       "    <tr>\n",
       "      <th>2</th>\n",
       "      <td>1</td>\n",
       "      <td>love this book!!!: this book is a fast read ab...</td>\n",
       "    </tr>\n",
       "  </tbody>\n",
       "</table>\n",
       "</div>"
      ],
      "text/plain": [
       "   score                                               text\n",
       "0      0  overgeneralized, not helpful to anyone serious...\n",
       "1      1                           Great sound and service.\n",
       "2      1  love this book!!!: this book is a fast read ab..."
      ]
     },
     "execution_count": 66,
     "metadata": {},
     "output_type": "execute_result"
    }
   ],
   "source": [
    "TrainData.head(3)"
   ]
  },
  {
   "cell_type": "code",
   "execution_count": 67,
   "metadata": {},
   "outputs": [
    {
     "data": {
      "text/plain": [
       "1    3752\n",
       "0    3748\n",
       "Name: score, dtype: int64"
      ]
     },
     "execution_count": 67,
     "metadata": {},
     "output_type": "execute_result"
    }
   ],
   "source": [
    "pd.value_counts(TrainData['score'])   ###Aim: Confirm if the datasets have big difference between each other"
   ]
  },
  {
   "cell_type": "code",
   "execution_count": 68,
   "metadata": {},
   "outputs": [
    {
     "data": {
      "image/png": "[encoded data removed]",
      "text/plain": [
       "<Figure size 432x288 with 1 Axes>"
      ]
     },
     "metadata": {
      "needs_background": "light"
     },
     "output_type": "display_data"
    }
   ],
   "source": [
    "pd.value_counts(TrainData['score'], sort=True).plot(kind='bar',color=['r', 'g'])  \n",
    "plt.title('The number of positive_samples/negative_samples')  \n",
    "plt.xlabel('label') \n",
    "plt.ylabel('No.')\n",
    "plt.show() #show the figure"
   ]
  },
  {
   "cell_type": "code",
   "execution_count": 69,
   "metadata": {},
   "outputs": [
    {
     "data": {
      "text/html": [
       "<div>\n",
       "<style scoped>\n",
       "    .dataframe tbody tr th:only-of-type {\n",
       "        vertical-align: middle;\n",
       "    }\n",
       "\n",
       "    .dataframe tbody tr th {\n",
       "        vertical-align: top;\n",
       "    }\n",
       "\n",
       "    .dataframe thead th {\n",
       "        text-align: right;\n",
       "    }\n",
       "</style>\n",
       "<table border=\"1\" class=\"dataframe\">\n",
       "  <thead>\n",
       "    <tr style=\"text-align: right;\">\n",
       "      <th></th>\n",
       "      <th>score</th>\n",
       "      <th>text</th>\n",
       "    </tr>\n",
       "  </thead>\n",
       "  <tbody>\n",
       "    <tr>\n",
       "      <th>0</th>\n",
       "      <td>0</td>\n",
       "      <td>overgeneralized, not helpful to anyone serious...</td>\n",
       "    </tr>\n",
       "    <tr>\n",
       "      <th>1</th>\n",
       "      <td>1</td>\n",
       "      <td>Great sound and service.</td>\n",
       "    </tr>\n",
       "    <tr>\n",
       "      <th>2</th>\n",
       "      <td>1</td>\n",
       "      <td>love this book!!!: this book is a fast read ab...</td>\n",
       "    </tr>\n",
       "    <tr>\n",
       "      <th>3</th>\n",
       "      <td>1</td>\n",
       "      <td>A hugely enjoyable screen version of Rona Jaff...</td>\n",
       "    </tr>\n",
       "    <tr>\n",
       "      <th>4</th>\n",
       "      <td>0</td>\n",
       "      <td>What an uninteresting hodge-podge. It could ha...</td>\n",
       "    </tr>\n",
       "    <tr>\n",
       "      <th>5</th>\n",
       "      <td>1</td>\n",
       "      <td>@USAirways customer service at its best! Rache...</td>\n",
       "    </tr>\n",
       "    <tr>\n",
       "      <th>6</th>\n",
       "      <td>0</td>\n",
       "      <td>@VirginAmerica Is it normal to receive no repl...</td>\n",
       "    </tr>\n",
       "    <tr>\n",
       "      <th>7</th>\n",
       "      <td>0</td>\n",
       "      <td>Imagine the worst skits from Saturday Night Li...</td>\n",
       "    </tr>\n",
       "    <tr>\n",
       "      <th>8</th>\n",
       "      <td>0</td>\n",
       "      <td>This is one of the worst films ever. I like ch...</td>\n",
       "    </tr>\n",
       "    <tr>\n",
       "      <th>9</th>\n",
       "      <td>1</td>\n",
       "      <td>@JetBlue flight attendant Wendi on Flt 127 on ...</td>\n",
       "    </tr>\n",
       "  </tbody>\n",
       "</table>\n",
       "</div>"
      ],
      "text/plain": [
       "   score                                               text\n",
       "0      0  overgeneralized, not helpful to anyone serious...\n",
       "1      1                           Great sound and service.\n",
       "2      1  love this book!!!: this book is a fast read ab...\n",
       "3      1  A hugely enjoyable screen version of Rona Jaff...\n",
       "4      0  What an uninteresting hodge-podge. It could ha...\n",
       "5      1  @USAirways customer service at its best! Rache...\n",
       "6      0  @VirginAmerica Is it normal to receive no repl...\n",
       "7      0  Imagine the worst skits from Saturday Night Li...\n",
       "8      0  This is one of the worst films ever. I like ch...\n",
       "9      1  @JetBlue flight attendant Wendi on Flt 127 on ..."
      ]
     },
     "execution_count": 69,
     "metadata": {},
     "output_type": "execute_result"
    }
   ],
   "source": [
    "TrainData.head(10)"
   ]
  },
  {
   "cell_type": "markdown",
   "metadata": {},
   "source": [
    "# Data classification"
   ]
  },
  {
   "cell_type": "code",
   "execution_count": 70,
   "metadata": {},
   "outputs": [],
   "source": [
    "train_x = TrainData['text']    ###Gathering text data  \n",
    "train_y = TrainData['score']   \n",
    "test_x = TestData['text']\n",
    "test_y = TestData['score']\n",
    "dev_x = EvaData['text']\n",
    "dev_y = EvaData['score']"
   ]
  },
  {
   "cell_type": "code",
   "execution_count": null,
   "metadata": {},
   "outputs": [],
   "source": []
  },
  {
   "cell_type": "markdown",
   "metadata": {},
   "source": [
    "# Stopwords Customization"
   ]
  },
  {
   "cell_type": "code",
   "execution_count": 71,
   "metadata": {},
   "outputs": [
    {
     "ename": "TypeError",
     "evalue": "'list' object is not callable",
     "output_type": "error",
     "traceback": [
      "\u001b[1;31m---------------------------------------------------------------------------\u001b[0m",
      "\u001b[1;31mTypeError\u001b[0m                                 Traceback (most recent call last)",
      "\u001b[1;32m<ipython-input-71-eb78e7144817>\u001b[0m in \u001b[0;36m<module>\u001b[1;34m\u001b[0m\n\u001b[0;32m      2\u001b[0m \u001b[0mpunctuation\u001b[0m\u001b[1;33m=\u001b[0m\u001b[1;33m[\u001b[0m\u001b[1;34m','\u001b[0m\u001b[1;33m,\u001b[0m\u001b[1;34m'.'\u001b[0m\u001b[1;33m,\u001b[0m\u001b[1;34m'\"'\u001b[0m\u001b[1;33m,\u001b[0m\u001b[1;34m'--'\u001b[0m\u001b[1;33m,\u001b[0m\u001b[1;34m'.\"'\u001b[0m\u001b[1;33m,\u001b[0m\u001b[1;34m',\"'\u001b[0m\u001b[1;33m,\u001b[0m\u001b[1;34m'!'\u001b[0m\u001b[1;33m,\u001b[0m\u001b[1;34m'\\''\u001b[0m\u001b[1;33m,\u001b[0m\u001b[1;34m'.--'\u001b[0m\u001b[1;33m,\u001b[0m\u001b[1;34m'?--'\u001b[0m\u001b[1;33m,\u001b[0m\u001b[1;34m'-'\u001b[0m\u001b[1;33m,\u001b[0m\u001b[1;34m'?'\u001b[0m\u001b[1;33m,\u001b[0m\u001b[1;34m'!--'\u001b[0m\u001b[1;33m,\u001b[0m\u001b[1;34m';'\u001b[0m\u001b[1;33m,\u001b[0m\u001b[1;34m'@'\u001b[0m\u001b[1;33m,\u001b[0m\u001b[1;34m':'\u001b[0m\u001b[1;33m,\u001b[0m\u001b[1;34m'...'\u001b[0m\u001b[1;33m,\u001b[0m\u001b[1;34m\"n't\"\u001b[0m\u001b[1;33m,\u001b[0m\u001b[1;34m';'\u001b[0m\u001b[1;33m,\u001b[0m\u001b[1;34m\"s'\"\u001b[0m\u001b[1;33m,\u001b[0m\u001b[1;34m'#'\u001b[0m\u001b[1;33m,\u001b[0m\u001b[1;34m\"``\"\u001b[0m\u001b[1;33m,\u001b[0m\u001b[1;34m\"'\"\u001b[0m\u001b[1;33m,\u001b[0m\u001b[1;34m\"’\"\u001b[0m\u001b[1;33m,\u001b[0m\u001b[1;34m\":)\"\u001b[0m\u001b[1;33m,\u001b[0m\u001b[1;34m\"https\"\u001b[0m\u001b[1;33m,\u001b[0m\u001b[1;34m\":\"\u001b[0m\u001b[1;33m,\u001b[0m\u001b[1;34m\"<br />\"\u001b[0m\u001b[1;33m,\u001b[0m\u001b[1;34m\"//\"\u001b[0m\u001b[1;33m,\u001b[0m\u001b[1;34m\"\"\u001b[0m\u001b[1;33m]\u001b[0m\u001b[1;33m\u001b[0m\u001b[1;33m\u001b[0m\u001b[0m\n\u001b[0;32m      3\u001b[0m \u001b[0mstopwords\u001b[0m\u001b[1;33m.\u001b[0m\u001b[0mextend\u001b[0m\u001b[1;33m(\u001b[0m\u001b[0mpunctuation\u001b[0m\u001b[1;33m)\u001b[0m\u001b[1;33m\u001b[0m\u001b[1;33m\u001b[0m\u001b[0m\n\u001b[1;32m----> 4\u001b[1;33m \u001b[0mstopwords\u001b[0m\u001b[1;33m(\u001b[0m\u001b[1;33m)\u001b[0m\u001b[1;33m\u001b[0m\u001b[1;33m\u001b[0m\u001b[0m\n\u001b[0m",
      "\u001b[1;31mTypeError\u001b[0m: 'list' object is not callable"
     ]
    }
   ],
   "source": [
    "stopwords=nltk.corpus.stopwords.words('english')\n",
    "punctuation=[',','.','\"','--','.\"',',\"','!','\\'','.--','?--','-','?','!--',';','@',':','...',\"n't\",';',\"s'\",'#',\"``\",\"'\",\"’\",\":)\",\"https\",\":\",\"<br />\",\"//\",\"\"]\n",
    "stopwords.extend(punctuation)"
   ]
  },
  {
   "cell_type": "markdown",
   "metadata": {},
   "source": [
    "# Feature extraction"
   ]
  },
  {
   "cell_type": "code",
   "execution_count": 50,
   "metadata": {},
   "outputs": [],
   "source": [
    "tfidf = TfidfVectorizer(stop_words=stopwords,max_features=1000)\n",
    "tfidf.fit(train_x)\n",
    "\n",
    "train_x_tfidf = tfidf.transform(train_x).toarray()\n",
    "test_x_tfidf = tfidf.transform(test_x).toarray()\n",
    "eva_x_tfidf = tfidf.transform(dev_x).toarray()"
   ]
  },
  {
   "cell_type": "markdown",
   "metadata": {},
   "source": [
    "# Creating classification models"
   ]
  },
  {
   "cell_type": "code",
   "execution_count": 51,
   "metadata": {},
   "outputs": [],
   "source": [
    "MLA = [\n",
    "    linear_model.LogisticRegressionCV(),\n",
    "    naive_bayes.GaussianNB(),\n",
    "    ensemble.RandomForestClassifier(max_depth=3, n_estimators=10, max_features=1),\n",
    "    neural_network.MLPClassifier(alpha=1),\n",
    "    svm.LinearSVC()\n",
    "]"
   ]
  },
  {
   "cell_type": "markdown",
   "metadata": {},
   "source": [
    "# Model fitting and performance evaluation"
   ]
  },
  {
   "cell_type": "code",
   "execution_count": 52,
   "metadata": {},
   "outputs": [
    {
     "data": {
      "image/png": "[encoded data removed]",
      "text/plain": [
       "<Figure size 432x288 with 1 Axes>"
      ]
     },
     "metadata": {
      "needs_background": "light"
     },
     "output_type": "display_data"
    },
    {
     "data": {
      "text/html": [
       "<div>\n",
       "<style scoped>\n",
       "    .dataframe tbody tr th:only-of-type {\n",
       "        vertical-align: middle;\n",
       "    }\n",
       "\n",
       "    .dataframe tbody tr th {\n",
       "        vertical-align: top;\n",
       "    }\n",
       "\n",
       "    .dataframe thead th {\n",
       "        text-align: right;\n",
       "    }\n",
       "</style>\n",
       "<table border=\"1\" class=\"dataframe\">\n",
       "  <thead>\n",
       "    <tr style=\"text-align: right;\">\n",
       "      <th></th>\n",
       "      <th>Model Name</th>\n",
       "      <th>Train Accuracy</th>\n",
       "      <th>Test Accuracy</th>\n",
       "      <th>Precision</th>\n",
       "      <th>AUC</th>\n",
       "      <th>Recall</th>\n",
       "      <th>Time</th>\n",
       "    </tr>\n",
       "  </thead>\n",
       "  <tbody>\n",
       "    <tr>\n",
       "      <th>4</th>\n",
       "      <td>LinearSVC</td>\n",
       "      <td>0.8829</td>\n",
       "      <td>0.8829</td>\n",
       "      <td>0.889642</td>\n",
       "      <td>0.882938</td>\n",
       "      <td>0.874467</td>\n",
       "      <td>0.110217</td>\n",
       "    </tr>\n",
       "    <tr>\n",
       "      <th>0</th>\n",
       "      <td>LogisticRegressionCV</td>\n",
       "      <td>0.8753</td>\n",
       "      <td>0.8753</td>\n",
       "      <td>0.882225</td>\n",
       "      <td>0.875338</td>\n",
       "      <td>0.866471</td>\n",
       "      <td>16.728259</td>\n",
       "    </tr>\n",
       "    <tr>\n",
       "      <th>3</th>\n",
       "      <td>MLPClassifier</td>\n",
       "      <td>0.8579</td>\n",
       "      <td>0.8579</td>\n",
       "      <td>0.891089</td>\n",
       "      <td>0.857889</td>\n",
       "      <td>0.815565</td>\n",
       "      <td>10.844640</td>\n",
       "    </tr>\n",
       "    <tr>\n",
       "      <th>1</th>\n",
       "      <td>GaussianNB</td>\n",
       "      <td>0.8231</td>\n",
       "      <td>0.8231</td>\n",
       "      <td>0.810977</td>\n",
       "      <td>0.823056</td>\n",
       "      <td>0.842751</td>\n",
       "      <td>0.447802</td>\n",
       "    </tr>\n",
       "    <tr>\n",
       "      <th>2</th>\n",
       "      <td>RandomForestClassifier</td>\n",
       "      <td>0.5532</td>\n",
       "      <td>0.5532</td>\n",
       "      <td>0.530756</td>\n",
       "      <td>0.553003</td>\n",
       "      <td>0.922175</td>\n",
       "      <td>0.100703</td>\n",
       "    </tr>\n",
       "  </tbody>\n",
       "</table>\n",
       "</div>"
      ],
      "text/plain": [
       "               Model Name  Train Accuracy  Test Accuracy  Precision       AUC  \\\n",
       "4               LinearSVC          0.8829         0.8829   0.889642  0.882938   \n",
       "0    LogisticRegressionCV          0.8753         0.8753   0.882225  0.875338   \n",
       "3           MLPClassifier          0.8579         0.8579   0.891089  0.857889   \n",
       "1              GaussianNB          0.8231         0.8231   0.810977  0.823056   \n",
       "2  RandomForestClassifier          0.5532         0.5532   0.530756  0.553003   \n",
       "\n",
       "     Recall       Time  \n",
       "4  0.874467   0.110217  \n",
       "0  0.866471  16.728259  \n",
       "3  0.815565  10.844640  \n",
       "1  0.842751   0.447802  \n",
       "2  0.922175   0.100703  "
      ]
     },
     "execution_count": 52,
     "metadata": {},
     "output_type": "execute_result"
    }
   ],
   "source": [
    "MLA_columns = []\n",
    "MLA_compare = pd.DataFrame(columns = MLA_columns)\n",
    "model_name=[\"LogisticRegression\",\"GaussianNB\",\"RandomForest\",\"MLPClassifier\",\"SVR\"]\n",
    "row_index = 0\n",
    "for model,name in zip(MLA,model_name):\n",
    "    start = time.time()\n",
    "    predicted = model.fit(train_x_tfidf, train_y).predict(test_x_tfidf)\n",
    "    fp, tp, th = roc_curve(test_y, predicted)\n",
    "    cost_time=(time.time() - start)\n",
    "    plt.plot(fp,tp,marker = 'o',label = name)\n",
    "    MLA_name = model.__class__.__name__\n",
    "    MLA_compare.loc[row_index,'Model Name'] = MLA_name\n",
    "    MLA_compare.loc[row_index, 'Train Accuracy'] = round(model.score(train_x_tfidf, train_y), 4)\n",
    "    MLA_compare.loc[row_index, 'Test Accuracy'] = round(model.score(test_x_tfidf, test_y), 4)\n",
    "    MLA_compare.loc[row_index, 'Precision'] = precision_score(test_y, predicted)\n",
    "    MLA_compare.loc[row_index, 'AUC'] = auc(fp, tp)\n",
    "    MLA_compare.loc[row_index, 'Recall'] = recall_score(test_y, predicted)\n",
    "    MLA_compare.loc[row_index, 'Time'] = cost_time\n",
    "  \n",
    "    row_index+=1\n",
    "plt.legend()\n",
    "plt.show()\n",
    "MLA_compare.sort_values(by = ['AUC'], ascending = False, inplace = True)\n",
    "\n",
    "MLA_compare"
   ]
  },
  {
   "cell_type": "markdown",
   "metadata": {},
   "source": [
    "# SVM performance evaluation"
   ]
  },
  {
   "cell_type": "code",
   "execution_count": 53,
   "metadata": {},
   "outputs": [],
   "source": [
    "model=svm.LinearSVC()\n",
    "model.fit(train_x_tfidf, train_y)\n",
    "svmEvaPred=model.predict(eva_x_tfidf)\n",
    "EvaData.insert(0,\"svm_pred\",svmEvaPred)\n"
   ]
  },
  {
   "cell_type": "markdown",
   "metadata": {},
   "source": [
    "# Bayes performance evaluation"
   ]
  },
  {
   "cell_type": "code",
   "execution_count": 54,
   "metadata": {},
   "outputs": [],
   "source": [
    "model=naive_bayes.GaussianNB()\n",
    "model.fit(train_x_tfidf, train_y)\n",
    "bsEvaPred=model.predict(eva_x_tfidf)\n",
    "EvaData.insert(0,\"bs_pred\",bsEvaPred)\n",
    "EvaData.to_csv(\"svm_bs_evaluation.csv\")"
   ]
  },
  {
   "cell_type": "code",
   "execution_count": null,
   "metadata": {},
   "outputs": [],
   "source": []
  }
 ],
 "metadata": {
  "anaconda-cloud": {},
  "kernelspec": {
   "display_name": "Python 3",
   "language": "python",
   "name": "python3"
  },
  "language_info": {
   "codemirror_mode": {
    "name": "ipython",
    "version": 3
   },
   "file_extension": ".py",
   "mimetype": "text/x-python",
   "name": "python",
   "nbconvert_exporter": "python",
   "pygments_lexer": "ipython3",
   "version": "3.8.3"
  }
 },
 "nbformat": 4,
 "nbformat_minor": 2
}
